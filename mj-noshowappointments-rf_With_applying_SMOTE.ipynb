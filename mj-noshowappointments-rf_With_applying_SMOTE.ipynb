{
 "cells": [
  {
   "cell_type": "code",
   "execution_count": 1,
   "id": "4555f594",
   "metadata": {
    "_cell_guid": "b1076dfc-b9ad-4769-8c92-a6c4dae69d19",
    "_uuid": "8f2839f25d086af736a60e9eeb907d3b93b6e0e5",
    "execution": {
     "iopub.execute_input": "2022-08-14T18:13:19.717724Z",
     "iopub.status.busy": "2022-08-14T18:13:19.716952Z",
     "iopub.status.idle": "2022-08-14T18:13:19.737709Z",
     "shell.execute_reply": "2022-08-14T18:13:19.736563Z"
    },
    "papermill": {
     "duration": 0.03529,
     "end_time": "2022-08-14T18:13:19.740671",
     "exception": false,
     "start_time": "2022-08-14T18:13:19.705381",
     "status": "completed"
    },
    "tags": []
   },
   "outputs": [
    {
     "name": "stdout",
     "output_type": "stream",
     "text": [
      "/kaggle/input/noshowappointments/KaggleV2-May-2016.csv\n"
     ]
    }
   ],
   "source": [
    "# This Python 3 environment comes with many helpful analytics libraries installed\n",
    "# It is defined by the kaggle/python Docker image: https://github.com/kaggle/docker-python\n",
    "# For example, here's several helpful packages to load\n",
    "\n",
    "import numpy as np # linear algebra\n",
    "import pandas as pd # data processing, CSV file I/O (e.g. pd.read_csv)\n",
    "\n",
    "# Input data files are available in the read-only \"../input/\" directory\n",
    "# For example, running this (by clicking run or pressing Shift+Enter) will list all files under the input directory\n",
    "\n",
    "import os\n",
    "for dirname, _, filenames in os.walk('/kaggle/input'):\n",
    "    for filename in filenames:\n",
    "        print(os.path.join(dirname, filename))\n",
    "\n",
    "# You can write up to 20GB to the current directory (/kaggle/working/) that gets preserved as output when you create a version using \"Save & Run All\" \n",
    "# You can also write temporary files to /kaggle/temp/, but they won't be saved outside of the current session"
   ]
  },
  {
   "cell_type": "code",
   "execution_count": 2,
   "id": "46802461",
   "metadata": {
    "execution": {
     "iopub.execute_input": "2022-08-14T18:13:19.758163Z",
     "iopub.status.busy": "2022-08-14T18:13:19.757099Z",
     "iopub.status.idle": "2022-08-14T18:13:19.761753Z",
     "shell.execute_reply": "2022-08-14T18:13:19.760908Z"
    },
    "papermill": {
     "duration": 0.015868,
     "end_time": "2022-08-14T18:13:19.764148",
     "exception": false,
     "start_time": "2022-08-14T18:13:19.748280",
     "status": "completed"
    },
    "tags": []
   },
   "outputs": [],
   "source": [
    "# !pip install imbalanced-learn"
   ]
  },
  {
   "cell_type": "code",
   "execution_count": 3,
   "id": "ee4709f0",
   "metadata": {
    "execution": {
     "iopub.execute_input": "2022-08-14T18:13:19.781110Z",
     "iopub.status.busy": "2022-08-14T18:13:19.780132Z",
     "iopub.status.idle": "2022-08-14T18:13:21.343344Z",
     "shell.execute_reply": "2022-08-14T18:13:21.341962Z"
    },
    "papermill": {
     "duration": 1.574441,
     "end_time": "2022-08-14T18:13:21.345908",
     "exception": false,
     "start_time": "2022-08-14T18:13:19.771467",
     "status": "completed"
    },
    "tags": []
   },
   "outputs": [
    {
     "name": "stdout",
     "output_type": "stream",
     "text": [
      "0.9.0\n"
     ]
    }
   ],
   "source": [
    "# check version number\n",
    "import imblearn\n",
    "print(imblearn.__version__)"
   ]
  },
  {
   "cell_type": "code",
   "execution_count": 4,
   "id": "a8ccd28f",
   "metadata": {
    "execution": {
     "iopub.execute_input": "2022-08-14T18:13:21.362981Z",
     "iopub.status.busy": "2022-08-14T18:13:21.362442Z",
     "iopub.status.idle": "2022-08-14T18:13:22.330764Z",
     "shell.execute_reply": "2022-08-14T18:13:22.329712Z"
    },
    "papermill": {
     "duration": 0.980383,
     "end_time": "2022-08-14T18:13:22.333926",
     "exception": false,
     "start_time": "2022-08-14T18:13:21.353543",
     "status": "completed"
    },
    "tags": []
   },
   "outputs": [],
   "source": [
    "from matplotlib import pyplot as plt\n",
    "# from sklearn.preprocessing import SimpleImputer\n",
    "from sklearn.preprocessing import LabelEncoder\n",
    "from sklearn.model_selection import train_test_split\n",
    "from imblearn.over_sampling import RandomOverSampler,SMOTE, ADASYN\n",
    "from sklearn.tree import DecisionTreeClassifier\n",
    "from sklearn.linear_model import LogisticRegression\n",
    "from sklearn.metrics import roc_curve\n",
    "from sklearn.ensemble import RandomForestClassifier\n",
    "from sklearn.feature_selection import SelectFromModel\n",
    "from sklearn.metrics import classification_report,accuracy_score,confusion_matrix,auc,roc_auc_score,precision_score,recall_score\n",
    "from sklearn.cluster import KMeans\n",
    "from sklearn.neighbors import KNeighborsClassifier\n",
    "from sklearn import metrics\n",
    "from sklearn.metrics import precision_recall_fscore_support\n",
    "import seaborn as sns\n",
    "import statsmodels.api as sm\n",
    "%matplotlib inline\n",
    "from sklearn.model_selection import train_test_split\n",
    "from sklearn.linear_model import LinearRegression\n",
    "from sklearn.feature_selection import RFE\n",
    "from sklearn.linear_model import RidgeCV, LassoCV, Ridge, Lasso"
   ]
  },
  {
   "cell_type": "code",
   "execution_count": 5,
   "id": "a680f5cc",
   "metadata": {
    "execution": {
     "iopub.execute_input": "2022-08-14T18:13:22.351449Z",
     "iopub.status.busy": "2022-08-14T18:13:22.351061Z",
     "iopub.status.idle": "2022-08-14T18:13:22.720072Z",
     "shell.execute_reply": "2022-08-14T18:13:22.718966Z"
    },
    "papermill": {
     "duration": 0.381003,
     "end_time": "2022-08-14T18:13:22.722848",
     "exception": false,
     "start_time": "2022-08-14T18:13:22.341845",
     "status": "completed"
    },
    "tags": []
   },
   "outputs": [],
   "source": [
    "dataset = pd.read_csv('../input/noshowappointments/KaggleV2-May-2016.csv')"
   ]
  },
  {
   "cell_type": "code",
   "execution_count": 6,
   "id": "bf2a86d6",
   "metadata": {
    "execution": {
     "iopub.execute_input": "2022-08-14T18:13:22.739486Z",
     "iopub.status.busy": "2022-08-14T18:13:22.739107Z",
     "iopub.status.idle": "2022-08-14T18:13:22.765417Z",
     "shell.execute_reply": "2022-08-14T18:13:22.764251Z"
    },
    "papermill": {
     "duration": 0.037746,
     "end_time": "2022-08-14T18:13:22.767866",
     "exception": false,
     "start_time": "2022-08-14T18:13:22.730120",
     "status": "completed"
    },
    "tags": []
   },
   "outputs": [
    {
     "data": {
      "text/html": [
       "<div>\n",
       "<style scoped>\n",
       "    .dataframe tbody tr th:only-of-type {\n",
       "        vertical-align: middle;\n",
       "    }\n",
       "\n",
       "    .dataframe tbody tr th {\n",
       "        vertical-align: top;\n",
       "    }\n",
       "\n",
       "    .dataframe thead th {\n",
       "        text-align: right;\n",
       "    }\n",
       "</style>\n",
       "<table border=\"1\" class=\"dataframe\">\n",
       "  <thead>\n",
       "    <tr style=\"text-align: right;\">\n",
       "      <th></th>\n",
       "      <th>PatientId</th>\n",
       "      <th>AppointmentID</th>\n",
       "      <th>Gender</th>\n",
       "      <th>ScheduledDay</th>\n",
       "      <th>AppointmentDay</th>\n",
       "      <th>Age</th>\n",
       "      <th>Neighbourhood</th>\n",
       "      <th>Scholarship</th>\n",
       "      <th>Hipertension</th>\n",
       "      <th>Diabetes</th>\n",
       "      <th>Alcoholism</th>\n",
       "      <th>Handcap</th>\n",
       "      <th>SMS_received</th>\n",
       "      <th>No-show</th>\n",
       "    </tr>\n",
       "  </thead>\n",
       "  <tbody>\n",
       "    <tr>\n",
       "      <th>0</th>\n",
       "      <td>2.987250e+13</td>\n",
       "      <td>5642903</td>\n",
       "      <td>F</td>\n",
       "      <td>2016-04-29T18:38:08Z</td>\n",
       "      <td>2016-04-29T00:00:00Z</td>\n",
       "      <td>62</td>\n",
       "      <td>JARDIM DA PENHA</td>\n",
       "      <td>0</td>\n",
       "      <td>1</td>\n",
       "      <td>0</td>\n",
       "      <td>0</td>\n",
       "      <td>0</td>\n",
       "      <td>0</td>\n",
       "      <td>No</td>\n",
       "    </tr>\n",
       "    <tr>\n",
       "      <th>1</th>\n",
       "      <td>5.589978e+14</td>\n",
       "      <td>5642503</td>\n",
       "      <td>M</td>\n",
       "      <td>2016-04-29T16:08:27Z</td>\n",
       "      <td>2016-04-29T00:00:00Z</td>\n",
       "      <td>56</td>\n",
       "      <td>JARDIM DA PENHA</td>\n",
       "      <td>0</td>\n",
       "      <td>0</td>\n",
       "      <td>0</td>\n",
       "      <td>0</td>\n",
       "      <td>0</td>\n",
       "      <td>0</td>\n",
       "      <td>No</td>\n",
       "    </tr>\n",
       "    <tr>\n",
       "      <th>2</th>\n",
       "      <td>4.262962e+12</td>\n",
       "      <td>5642549</td>\n",
       "      <td>F</td>\n",
       "      <td>2016-04-29T16:19:04Z</td>\n",
       "      <td>2016-04-29T00:00:00Z</td>\n",
       "      <td>62</td>\n",
       "      <td>MATA DA PRAIA</td>\n",
       "      <td>0</td>\n",
       "      <td>0</td>\n",
       "      <td>0</td>\n",
       "      <td>0</td>\n",
       "      <td>0</td>\n",
       "      <td>0</td>\n",
       "      <td>No</td>\n",
       "    </tr>\n",
       "    <tr>\n",
       "      <th>3</th>\n",
       "      <td>8.679512e+11</td>\n",
       "      <td>5642828</td>\n",
       "      <td>F</td>\n",
       "      <td>2016-04-29T17:29:31Z</td>\n",
       "      <td>2016-04-29T00:00:00Z</td>\n",
       "      <td>8</td>\n",
       "      <td>PONTAL DE CAMBURI</td>\n",
       "      <td>0</td>\n",
       "      <td>0</td>\n",
       "      <td>0</td>\n",
       "      <td>0</td>\n",
       "      <td>0</td>\n",
       "      <td>0</td>\n",
       "      <td>No</td>\n",
       "    </tr>\n",
       "    <tr>\n",
       "      <th>4</th>\n",
       "      <td>8.841186e+12</td>\n",
       "      <td>5642494</td>\n",
       "      <td>F</td>\n",
       "      <td>2016-04-29T16:07:23Z</td>\n",
       "      <td>2016-04-29T00:00:00Z</td>\n",
       "      <td>56</td>\n",
       "      <td>JARDIM DA PENHA</td>\n",
       "      <td>0</td>\n",
       "      <td>1</td>\n",
       "      <td>1</td>\n",
       "      <td>0</td>\n",
       "      <td>0</td>\n",
       "      <td>0</td>\n",
       "      <td>No</td>\n",
       "    </tr>\n",
       "  </tbody>\n",
       "</table>\n",
       "</div>"
      ],
      "text/plain": [
       "      PatientId  AppointmentID Gender          ScheduledDay  \\\n",
       "0  2.987250e+13        5642903      F  2016-04-29T18:38:08Z   \n",
       "1  5.589978e+14        5642503      M  2016-04-29T16:08:27Z   \n",
       "2  4.262962e+12        5642549      F  2016-04-29T16:19:04Z   \n",
       "3  8.679512e+11        5642828      F  2016-04-29T17:29:31Z   \n",
       "4  8.841186e+12        5642494      F  2016-04-29T16:07:23Z   \n",
       "\n",
       "         AppointmentDay  Age      Neighbourhood  Scholarship  Hipertension  \\\n",
       "0  2016-04-29T00:00:00Z   62    JARDIM DA PENHA            0             1   \n",
       "1  2016-04-29T00:00:00Z   56    JARDIM DA PENHA            0             0   \n",
       "2  2016-04-29T00:00:00Z   62      MATA DA PRAIA            0             0   \n",
       "3  2016-04-29T00:00:00Z    8  PONTAL DE CAMBURI            0             0   \n",
       "4  2016-04-29T00:00:00Z   56    JARDIM DA PENHA            0             1   \n",
       "\n",
       "   Diabetes  Alcoholism  Handcap  SMS_received No-show  \n",
       "0         0           0        0             0      No  \n",
       "1         0           0        0             0      No  \n",
       "2         0           0        0             0      No  \n",
       "3         0           0        0             0      No  \n",
       "4         1           0        0             0      No  "
      ]
     },
     "execution_count": 6,
     "metadata": {},
     "output_type": "execute_result"
    }
   ],
   "source": [
    "dataset.head()"
   ]
  },
  {
   "cell_type": "code",
   "execution_count": 7,
   "id": "cabf6ef2",
   "metadata": {
    "execution": {
     "iopub.execute_input": "2022-08-14T18:13:22.784711Z",
     "iopub.status.busy": "2022-08-14T18:13:22.784281Z",
     "iopub.status.idle": "2022-08-14T18:13:22.837580Z",
     "shell.execute_reply": "2022-08-14T18:13:22.836321Z"
    },
    "papermill": {
     "duration": 0.065427,
     "end_time": "2022-08-14T18:13:22.841027",
     "exception": false,
     "start_time": "2022-08-14T18:13:22.775600",
     "status": "completed"
    },
    "tags": []
   },
   "outputs": [
    {
     "name": "stdout",
     "output_type": "stream",
     "text": [
      "<class 'pandas.core.frame.DataFrame'>\n",
      "RangeIndex: 110527 entries, 0 to 110526\n",
      "Data columns (total 14 columns):\n",
      " #   Column          Non-Null Count   Dtype  \n",
      "---  ------          --------------   -----  \n",
      " 0   PatientId       110527 non-null  float64\n",
      " 1   AppointmentID   110527 non-null  int64  \n",
      " 2   Gender          110527 non-null  object \n",
      " 3   ScheduledDay    110527 non-null  object \n",
      " 4   AppointmentDay  110527 non-null  object \n",
      " 5   Age             110527 non-null  int64  \n",
      " 6   Neighbourhood   110527 non-null  object \n",
      " 7   Scholarship     110527 non-null  int64  \n",
      " 8   Hipertension    110527 non-null  int64  \n",
      " 9   Diabetes        110527 non-null  int64  \n",
      " 10  Alcoholism      110527 non-null  int64  \n",
      " 11  Handcap         110527 non-null  int64  \n",
      " 12  SMS_received    110527 non-null  int64  \n",
      " 13  No-show         110527 non-null  object \n",
      "dtypes: float64(1), int64(8), object(5)\n",
      "memory usage: 11.8+ MB\n"
     ]
    }
   ],
   "source": [
    "dataset.info()"
   ]
  },
  {
   "cell_type": "code",
   "execution_count": 8,
   "id": "aac2183a",
   "metadata": {
    "execution": {
     "iopub.execute_input": "2022-08-14T18:13:22.860453Z",
     "iopub.status.busy": "2022-08-14T18:13:22.858760Z",
     "iopub.status.idle": "2022-08-14T18:13:22.931206Z",
     "shell.execute_reply": "2022-08-14T18:13:22.929680Z"
    },
    "papermill": {
     "duration": 0.084211,
     "end_time": "2022-08-14T18:13:22.933870",
     "exception": false,
     "start_time": "2022-08-14T18:13:22.849659",
     "status": "completed"
    },
    "tags": []
   },
   "outputs": [
    {
     "data": {
      "text/html": [
       "<div>\n",
       "<style scoped>\n",
       "    .dataframe tbody tr th:only-of-type {\n",
       "        vertical-align: middle;\n",
       "    }\n",
       "\n",
       "    .dataframe tbody tr th {\n",
       "        vertical-align: top;\n",
       "    }\n",
       "\n",
       "    .dataframe thead th {\n",
       "        text-align: right;\n",
       "    }\n",
       "</style>\n",
       "<table border=\"1\" class=\"dataframe\">\n",
       "  <thead>\n",
       "    <tr style=\"text-align: right;\">\n",
       "      <th></th>\n",
       "      <th>PatientId</th>\n",
       "      <th>AppointmentID</th>\n",
       "      <th>Age</th>\n",
       "      <th>Scholarship</th>\n",
       "      <th>Hipertension</th>\n",
       "      <th>Diabetes</th>\n",
       "      <th>Alcoholism</th>\n",
       "      <th>Handcap</th>\n",
       "      <th>SMS_received</th>\n",
       "    </tr>\n",
       "  </thead>\n",
       "  <tbody>\n",
       "    <tr>\n",
       "      <th>count</th>\n",
       "      <td>1.105270e+05</td>\n",
       "      <td>1.105270e+05</td>\n",
       "      <td>110527.000000</td>\n",
       "      <td>110527.000000</td>\n",
       "      <td>110527.000000</td>\n",
       "      <td>110527.000000</td>\n",
       "      <td>110527.000000</td>\n",
       "      <td>110527.000000</td>\n",
       "      <td>110527.000000</td>\n",
       "    </tr>\n",
       "    <tr>\n",
       "      <th>mean</th>\n",
       "      <td>1.474963e+14</td>\n",
       "      <td>5.675305e+06</td>\n",
       "      <td>37.088874</td>\n",
       "      <td>0.098266</td>\n",
       "      <td>0.197246</td>\n",
       "      <td>0.071865</td>\n",
       "      <td>0.030400</td>\n",
       "      <td>0.022248</td>\n",
       "      <td>0.321026</td>\n",
       "    </tr>\n",
       "    <tr>\n",
       "      <th>std</th>\n",
       "      <td>2.560949e+14</td>\n",
       "      <td>7.129575e+04</td>\n",
       "      <td>23.110205</td>\n",
       "      <td>0.297675</td>\n",
       "      <td>0.397921</td>\n",
       "      <td>0.258265</td>\n",
       "      <td>0.171686</td>\n",
       "      <td>0.161543</td>\n",
       "      <td>0.466873</td>\n",
       "    </tr>\n",
       "    <tr>\n",
       "      <th>min</th>\n",
       "      <td>3.921784e+04</td>\n",
       "      <td>5.030230e+06</td>\n",
       "      <td>-1.000000</td>\n",
       "      <td>0.000000</td>\n",
       "      <td>0.000000</td>\n",
       "      <td>0.000000</td>\n",
       "      <td>0.000000</td>\n",
       "      <td>0.000000</td>\n",
       "      <td>0.000000</td>\n",
       "    </tr>\n",
       "    <tr>\n",
       "      <th>25%</th>\n",
       "      <td>4.172614e+12</td>\n",
       "      <td>5.640286e+06</td>\n",
       "      <td>18.000000</td>\n",
       "      <td>0.000000</td>\n",
       "      <td>0.000000</td>\n",
       "      <td>0.000000</td>\n",
       "      <td>0.000000</td>\n",
       "      <td>0.000000</td>\n",
       "      <td>0.000000</td>\n",
       "    </tr>\n",
       "    <tr>\n",
       "      <th>50%</th>\n",
       "      <td>3.173184e+13</td>\n",
       "      <td>5.680573e+06</td>\n",
       "      <td>37.000000</td>\n",
       "      <td>0.000000</td>\n",
       "      <td>0.000000</td>\n",
       "      <td>0.000000</td>\n",
       "      <td>0.000000</td>\n",
       "      <td>0.000000</td>\n",
       "      <td>0.000000</td>\n",
       "    </tr>\n",
       "    <tr>\n",
       "      <th>75%</th>\n",
       "      <td>9.439172e+13</td>\n",
       "      <td>5.725524e+06</td>\n",
       "      <td>55.000000</td>\n",
       "      <td>0.000000</td>\n",
       "      <td>0.000000</td>\n",
       "      <td>0.000000</td>\n",
       "      <td>0.000000</td>\n",
       "      <td>0.000000</td>\n",
       "      <td>1.000000</td>\n",
       "    </tr>\n",
       "    <tr>\n",
       "      <th>max</th>\n",
       "      <td>9.999816e+14</td>\n",
       "      <td>5.790484e+06</td>\n",
       "      <td>115.000000</td>\n",
       "      <td>1.000000</td>\n",
       "      <td>1.000000</td>\n",
       "      <td>1.000000</td>\n",
       "      <td>1.000000</td>\n",
       "      <td>4.000000</td>\n",
       "      <td>1.000000</td>\n",
       "    </tr>\n",
       "  </tbody>\n",
       "</table>\n",
       "</div>"
      ],
      "text/plain": [
       "          PatientId  AppointmentID            Age    Scholarship  \\\n",
       "count  1.105270e+05   1.105270e+05  110527.000000  110527.000000   \n",
       "mean   1.474963e+14   5.675305e+06      37.088874       0.098266   \n",
       "std    2.560949e+14   7.129575e+04      23.110205       0.297675   \n",
       "min    3.921784e+04   5.030230e+06      -1.000000       0.000000   \n",
       "25%    4.172614e+12   5.640286e+06      18.000000       0.000000   \n",
       "50%    3.173184e+13   5.680573e+06      37.000000       0.000000   \n",
       "75%    9.439172e+13   5.725524e+06      55.000000       0.000000   \n",
       "max    9.999816e+14   5.790484e+06     115.000000       1.000000   \n",
       "\n",
       "        Hipertension       Diabetes     Alcoholism        Handcap  \\\n",
       "count  110527.000000  110527.000000  110527.000000  110527.000000   \n",
       "mean        0.197246       0.071865       0.030400       0.022248   \n",
       "std         0.397921       0.258265       0.171686       0.161543   \n",
       "min         0.000000       0.000000       0.000000       0.000000   \n",
       "25%         0.000000       0.000000       0.000000       0.000000   \n",
       "50%         0.000000       0.000000       0.000000       0.000000   \n",
       "75%         0.000000       0.000000       0.000000       0.000000   \n",
       "max         1.000000       1.000000       1.000000       4.000000   \n",
       "\n",
       "        SMS_received  \n",
       "count  110527.000000  \n",
       "mean        0.321026  \n",
       "std         0.466873  \n",
       "min         0.000000  \n",
       "25%         0.000000  \n",
       "50%         0.000000  \n",
       "75%         1.000000  \n",
       "max         1.000000  "
      ]
     },
     "execution_count": 8,
     "metadata": {},
     "output_type": "execute_result"
    }
   ],
   "source": [
    "dataset.describe()"
   ]
  },
  {
   "cell_type": "code",
   "execution_count": 9,
   "id": "91fae91a",
   "metadata": {
    "execution": {
     "iopub.execute_input": "2022-08-14T18:13:22.953516Z",
     "iopub.status.busy": "2022-08-14T18:13:22.953087Z",
     "iopub.status.idle": "2022-08-14T18:13:22.968605Z",
     "shell.execute_reply": "2022-08-14T18:13:22.967377Z"
    },
    "papermill": {
     "duration": 0.027994,
     "end_time": "2022-08-14T18:13:22.970975",
     "exception": false,
     "start_time": "2022-08-14T18:13:22.942981",
     "status": "completed"
    },
    "tags": []
   },
   "outputs": [
    {
     "data": {
      "text/plain": [
       "No     88208\n",
       "Yes    22319\n",
       "Name: No-show, dtype: int64"
      ]
     },
     "execution_count": 9,
     "metadata": {},
     "output_type": "execute_result"
    }
   ],
   "source": [
    "dataset['No-show'].value_counts()"
   ]
  },
  {
   "cell_type": "code",
   "execution_count": 10,
   "id": "1cbae70e",
   "metadata": {
    "execution": {
     "iopub.execute_input": "2022-08-14T18:13:22.989230Z",
     "iopub.status.busy": "2022-08-14T18:13:22.988806Z",
     "iopub.status.idle": "2022-08-14T18:13:23.023447Z",
     "shell.execute_reply": "2022-08-14T18:13:23.022364Z"
    },
    "papermill": {
     "duration": 0.04699,
     "end_time": "2022-08-14T18:13:23.026148",
     "exception": false,
     "start_time": "2022-08-14T18:13:22.979158",
     "status": "completed"
    },
    "tags": []
   },
   "outputs": [
    {
     "data": {
      "text/plain": [
       "False"
      ]
     },
     "execution_count": 10,
     "metadata": {},
     "output_type": "execute_result"
    }
   ],
   "source": [
    "dataset.isnull().sum().any()"
   ]
  },
  {
   "cell_type": "code",
   "execution_count": 11,
   "id": "0bce36fd",
   "metadata": {
    "execution": {
     "iopub.execute_input": "2022-08-14T18:13:23.045614Z",
     "iopub.status.busy": "2022-08-14T18:13:23.044750Z",
     "iopub.status.idle": "2022-08-14T18:13:23.058599Z",
     "shell.execute_reply": "2022-08-14T18:13:23.057235Z"
    },
    "papermill": {
     "duration": 0.026758,
     "end_time": "2022-08-14T18:13:23.061928",
     "exception": false,
     "start_time": "2022-08-14T18:13:23.035170",
     "status": "completed"
    },
    "tags": []
   },
   "outputs": [],
   "source": [
    "dataset.drop(['PatientId','AppointmentID','ScheduledDay', 'AppointmentDay'], axis=1, inplace=True)"
   ]
  },
  {
   "cell_type": "code",
   "execution_count": 12,
   "id": "5205b55e",
   "metadata": {
    "execution": {
     "iopub.execute_input": "2022-08-14T18:13:23.082444Z",
     "iopub.status.busy": "2022-08-14T18:13:23.081316Z",
     "iopub.status.idle": "2022-08-14T18:13:23.125425Z",
     "shell.execute_reply": "2022-08-14T18:13:23.124311Z"
    },
    "papermill": {
     "duration": 0.057846,
     "end_time": "2022-08-14T18:13:23.128333",
     "exception": false,
     "start_time": "2022-08-14T18:13:23.070487",
     "status": "completed"
    },
    "tags": []
   },
   "outputs": [],
   "source": [
    "X = dataset.iloc[:, 0:9].values\n",
    "Y = dataset.iloc[:, 9].values"
   ]
  },
  {
   "cell_type": "code",
   "execution_count": 13,
   "id": "f9142a27",
   "metadata": {
    "execution": {
     "iopub.execute_input": "2022-08-14T18:13:23.147533Z",
     "iopub.status.busy": "2022-08-14T18:13:23.147151Z",
     "iopub.status.idle": "2022-08-14T18:13:23.153251Z",
     "shell.execute_reply": "2022-08-14T18:13:23.152300Z"
    },
    "papermill": {
     "duration": 0.018332,
     "end_time": "2022-08-14T18:13:23.155633",
     "exception": false,
     "start_time": "2022-08-14T18:13:23.137301",
     "status": "completed"
    },
    "tags": []
   },
   "outputs": [
    {
     "data": {
      "text/plain": [
       "array([['F', 62, 'JARDIM DA PENHA', ..., 0, 0, 0],\n",
       "       ['M', 56, 'JARDIM DA PENHA', ..., 0, 0, 0],\n",
       "       ['F', 62, 'MATA DA PRAIA', ..., 0, 0, 0],\n",
       "       ...,\n",
       "       ['F', 21, 'MARIA ORTIZ', ..., 0, 0, 1],\n",
       "       ['F', 38, 'MARIA ORTIZ', ..., 0, 0, 1],\n",
       "       ['F', 54, 'MARIA ORTIZ', ..., 0, 0, 1]], dtype=object)"
      ]
     },
     "execution_count": 13,
     "metadata": {},
     "output_type": "execute_result"
    }
   ],
   "source": [
    "X"
   ]
  },
  {
   "cell_type": "code",
   "execution_count": 14,
   "id": "8f8fb3a0",
   "metadata": {
    "execution": {
     "iopub.execute_input": "2022-08-14T18:13:23.174264Z",
     "iopub.status.busy": "2022-08-14T18:13:23.173743Z",
     "iopub.status.idle": "2022-08-14T18:13:23.181217Z",
     "shell.execute_reply": "2022-08-14T18:13:23.179935Z"
    },
    "papermill": {
     "duration": 0.019541,
     "end_time": "2022-08-14T18:13:23.183504",
     "exception": false,
     "start_time": "2022-08-14T18:13:23.163963",
     "status": "completed"
    },
    "tags": []
   },
   "outputs": [
    {
     "data": {
      "text/plain": [
       "array(['No', 'No', 'No', ..., 'No', 'No', 'No'], dtype=object)"
      ]
     },
     "execution_count": 14,
     "metadata": {},
     "output_type": "execute_result"
    }
   ],
   "source": [
    "Y"
   ]
  },
  {
   "cell_type": "code",
   "execution_count": 15,
   "id": "06cac99c",
   "metadata": {
    "execution": {
     "iopub.execute_input": "2022-08-14T18:13:23.202477Z",
     "iopub.status.busy": "2022-08-14T18:13:23.201785Z",
     "iopub.status.idle": "2022-08-14T18:13:23.216426Z",
     "shell.execute_reply": "2022-08-14T18:13:23.215589Z"
    },
    "papermill": {
     "duration": 0.027143,
     "end_time": "2022-08-14T18:13:23.219046",
     "exception": false,
     "start_time": "2022-08-14T18:13:23.191903",
     "status": "completed"
    },
    "tags": []
   },
   "outputs": [
    {
     "name": "stdout",
     "output_type": "stream",
     "text": [
      "Counter({'No': 88208, 'Yes': 22319})\n"
     ]
    }
   ],
   "source": [
    "from collections import Counter\n",
    "# summarize class distribution\n",
    "counter = Counter(Y)\n",
    "print(counter)"
   ]
  },
  {
   "cell_type": "code",
   "execution_count": 16,
   "id": "f28d00da",
   "metadata": {
    "execution": {
     "iopub.execute_input": "2022-08-14T18:13:23.239861Z",
     "iopub.status.busy": "2022-08-14T18:13:23.238894Z",
     "iopub.status.idle": "2022-08-14T18:13:23.245906Z",
     "shell.execute_reply": "2022-08-14T18:13:23.244716Z"
    },
    "papermill": {
     "duration": 0.019079,
     "end_time": "2022-08-14T18:13:23.248042",
     "exception": false,
     "start_time": "2022-08-14T18:13:23.228963",
     "status": "completed"
    },
    "tags": []
   },
   "outputs": [
    {
     "data": {
      "text/plain": [
       "(110527,)"
      ]
     },
     "execution_count": 16,
     "metadata": {},
     "output_type": "execute_result"
    }
   ],
   "source": [
    "Y.shape"
   ]
  },
  {
   "cell_type": "code",
   "execution_count": 17,
   "id": "7bf7e6e3",
   "metadata": {
    "execution": {
     "iopub.execute_input": "2022-08-14T18:13:23.267729Z",
     "iopub.status.busy": "2022-08-14T18:13:23.267120Z",
     "iopub.status.idle": "2022-08-14T18:13:23.357314Z",
     "shell.execute_reply": "2022-08-14T18:13:23.356410Z"
    },
    "papermill": {
     "duration": 0.102831,
     "end_time": "2022-08-14T18:13:23.359753",
     "exception": false,
     "start_time": "2022-08-14T18:13:23.256922",
     "status": "completed"
    },
    "tags": []
   },
   "outputs": [],
   "source": [
    "from sklearn.preprocessing import OneHotEncoder\n",
    "from sklearn.compose import ColumnTransformer\n",
    "\n",
    "le = LabelEncoder()\n",
    "X[:, 0] = le.fit_transform(X[:, 0])\n",
    "X[:, 2] = le.fit_transform(X[:, 2])\n",
    "# X[:, 9] = le.fit_transform(X[:, 9])\n",
    "# X[:, 13] = le.fit_transform(X[:, 13])\n",
    "\n",
    "Y = le.fit_transform(Y)"
   ]
  },
  {
   "cell_type": "code",
   "execution_count": 18,
   "id": "1c5df25f",
   "metadata": {
    "execution": {
     "iopub.execute_input": "2022-08-14T18:13:23.380432Z",
     "iopub.status.busy": "2022-08-14T18:13:23.379852Z",
     "iopub.status.idle": "2022-08-14T18:13:23.680593Z",
     "shell.execute_reply": "2022-08-14T18:13:23.679200Z"
    },
    "papermill": {
     "duration": 0.31413,
     "end_time": "2022-08-14T18:13:23.683138",
     "exception": false,
     "start_time": "2022-08-14T18:13:23.369008",
     "status": "completed"
    },
    "tags": []
   },
   "outputs": [
    {
     "name": "stdout",
     "output_type": "stream",
     "text": [
      "Counter({0: 88208, 1: 88208})\n"
     ]
    }
   ],
   "source": [
    "# transform the dataset\n",
    "oversample = SMOTE()\n",
    "X, Y = oversample.fit_resample(X, Y)\n",
    "# summarize the new class distribution\n",
    "counter = Counter(Y)\n",
    "print(counter)"
   ]
  },
  {
   "cell_type": "code",
   "execution_count": 19,
   "id": "cc053888",
   "metadata": {
    "execution": {
     "iopub.execute_input": "2022-08-14T18:13:23.702311Z",
     "iopub.status.busy": "2022-08-14T18:13:23.701910Z",
     "iopub.status.idle": "2022-08-14T18:13:23.708991Z",
     "shell.execute_reply": "2022-08-14T18:13:23.707807Z"
    },
    "papermill": {
     "duration": 0.019729,
     "end_time": "2022-08-14T18:13:23.711706",
     "exception": false,
     "start_time": "2022-08-14T18:13:23.691977",
     "status": "completed"
    },
    "tags": []
   },
   "outputs": [
    {
     "name": "stdout",
     "output_type": "stream",
     "text": [
      "[[ 0.         62.         39.         ...  0.          0.\n",
      "   0.        ]\n",
      " [ 1.         56.         39.         ...  0.          0.\n",
      "   0.        ]\n",
      " [ 0.         62.         45.         ...  0.          0.\n",
      "   0.        ]\n",
      " ...\n",
      " [ 1.         40.48449095 40.         ...  0.          0.\n",
      "   0.        ]\n",
      " [ 1.          0.         74.         ...  0.          0.\n",
      "   0.        ]\n",
      " [ 0.         77.55885466 20.11770932 ...  0.          0.\n",
      "   0.        ]]\n",
      "[0 0 0 ... 1 1 1]\n"
     ]
    }
   ],
   "source": [
    "print(X)\n",
    "print(Y)"
   ]
  },
  {
   "cell_type": "code",
   "execution_count": 20,
   "id": "15187da9",
   "metadata": {
    "execution": {
     "iopub.execute_input": "2022-08-14T18:13:23.733278Z",
     "iopub.status.busy": "2022-08-14T18:13:23.732104Z",
     "iopub.status.idle": "2022-08-14T18:13:23.764611Z",
     "shell.execute_reply": "2022-08-14T18:13:23.763402Z"
    },
    "papermill": {
     "duration": 0.045575,
     "end_time": "2022-08-14T18:13:23.767496",
     "exception": false,
     "start_time": "2022-08-14T18:13:23.721921",
     "status": "completed"
    },
    "tags": []
   },
   "outputs": [],
   "source": [
    "from sklearn.preprocessing import MinMaxScaler\n",
    "sc = MinMaxScaler()\n",
    "X = sc.fit_transform(X)"
   ]
  },
  {
   "cell_type": "code",
   "execution_count": 21,
   "id": "07a1cc6b",
   "metadata": {
    "execution": {
     "iopub.execute_input": "2022-08-14T18:13:23.787557Z",
     "iopub.status.busy": "2022-08-14T18:13:23.786820Z",
     "iopub.status.idle": "2022-08-14T18:13:23.793888Z",
     "shell.execute_reply": "2022-08-14T18:13:23.793098Z"
    },
    "papermill": {
     "duration": 0.019448,
     "end_time": "2022-08-14T18:13:23.795908",
     "exception": false,
     "start_time": "2022-08-14T18:13:23.776460",
     "status": "completed"
    },
    "tags": []
   },
   "outputs": [
    {
     "data": {
      "text/plain": [
       "array([[0.        , 0.54310345, 0.4875    , ..., 0.        , 0.        ,\n",
       "        0.        ],\n",
       "       [1.        , 0.49137931, 0.4875    , ..., 0.        , 0.        ,\n",
       "        0.        ],\n",
       "       [0.        , 0.54310345, 0.5625    , ..., 0.        , 0.        ,\n",
       "        0.        ],\n",
       "       ...,\n",
       "       [1.        , 0.35762492, 0.5       , ..., 0.        , 0.        ,\n",
       "        0.        ],\n",
       "       [1.        , 0.00862069, 0.925     , ..., 0.        , 0.        ,\n",
       "        0.        ],\n",
       "       [0.        , 0.67723151, 0.25147137, ..., 0.        , 0.        ,\n",
       "        0.        ]])"
      ]
     },
     "execution_count": 21,
     "metadata": {},
     "output_type": "execute_result"
    }
   ],
   "source": [
    "X"
   ]
  },
  {
   "cell_type": "code",
   "execution_count": 22,
   "id": "4f35af26",
   "metadata": {
    "execution": {
     "iopub.execute_input": "2022-08-14T18:13:23.815926Z",
     "iopub.status.busy": "2022-08-14T18:13:23.815458Z",
     "iopub.status.idle": "2022-08-14T18:13:23.847977Z",
     "shell.execute_reply": "2022-08-14T18:13:23.846533Z"
    },
    "papermill": {
     "duration": 0.045607,
     "end_time": "2022-08-14T18:13:23.850809",
     "exception": false,
     "start_time": "2022-08-14T18:13:23.805202",
     "status": "completed"
    },
    "tags": []
   },
   "outputs": [],
   "source": [
    "from sklearn.model_selection import train_test_split\n",
    "X_train, X_test, Y_train, Y_test = train_test_split(X, Y, test_size=0.20, random_state=0)"
   ]
  },
  {
   "cell_type": "code",
   "execution_count": 23,
   "id": "fd98c4b3",
   "metadata": {
    "execution": {
     "iopub.execute_input": "2022-08-14T18:13:23.870228Z",
     "iopub.status.busy": "2022-08-14T18:13:23.869824Z",
     "iopub.status.idle": "2022-08-14T18:13:23.877842Z",
     "shell.execute_reply": "2022-08-14T18:13:23.876380Z"
    },
    "papermill": {
     "duration": 0.020777,
     "end_time": "2022-08-14T18:13:23.880520",
     "exception": false,
     "start_time": "2022-08-14T18:13:23.859743",
     "status": "completed"
    },
    "tags": []
   },
   "outputs": [
    {
     "data": {
      "text/plain": [
       "(141132, 9)"
      ]
     },
     "execution_count": 23,
     "metadata": {},
     "output_type": "execute_result"
    }
   ],
   "source": [
    "X_train.shape"
   ]
  },
  {
   "cell_type": "code",
   "execution_count": 24,
   "id": "9b7bb555",
   "metadata": {
    "execution": {
     "iopub.execute_input": "2022-08-14T18:13:23.900862Z",
     "iopub.status.busy": "2022-08-14T18:13:23.899804Z",
     "iopub.status.idle": "2022-08-14T18:13:23.906295Z",
     "shell.execute_reply": "2022-08-14T18:13:23.905153Z"
    },
    "papermill": {
     "duration": 0.018774,
     "end_time": "2022-08-14T18:13:23.908300",
     "exception": false,
     "start_time": "2022-08-14T18:13:23.889526",
     "status": "completed"
    },
    "tags": []
   },
   "outputs": [
    {
     "data": {
      "text/plain": [
       "(35284, 9)"
      ]
     },
     "execution_count": 24,
     "metadata": {},
     "output_type": "execute_result"
    }
   ],
   "source": [
    "X_test.shape"
   ]
  },
  {
   "cell_type": "code",
   "execution_count": 25,
   "id": "5a8a3127",
   "metadata": {
    "execution": {
     "iopub.execute_input": "2022-08-14T18:13:23.927969Z",
     "iopub.status.busy": "2022-08-14T18:13:23.927548Z",
     "iopub.status.idle": "2022-08-14T18:13:23.933010Z",
     "shell.execute_reply": "2022-08-14T18:13:23.932087Z"
    },
    "papermill": {
     "duration": 0.017908,
     "end_time": "2022-08-14T18:13:23.935085",
     "exception": false,
     "start_time": "2022-08-14T18:13:23.917177",
     "status": "completed"
    },
    "tags": []
   },
   "outputs": [],
   "source": [
    "rf = RandomForestClassifier(n_estimators=100)"
   ]
  },
  {
   "cell_type": "code",
   "execution_count": 26,
   "id": "e0b52943",
   "metadata": {
    "execution": {
     "iopub.execute_input": "2022-08-14T18:13:23.955748Z",
     "iopub.status.busy": "2022-08-14T18:13:23.955244Z",
     "iopub.status.idle": "2022-08-14T18:13:44.962801Z",
     "shell.execute_reply": "2022-08-14T18:13:44.961642Z"
    },
    "papermill": {
     "duration": 21.02048,
     "end_time": "2022-08-14T18:13:44.965195",
     "exception": false,
     "start_time": "2022-08-14T18:13:23.944715",
     "status": "completed"
    },
    "tags": []
   },
   "outputs": [
    {
     "data": {
      "text/plain": [
       "RandomForestClassifier()"
      ]
     },
     "execution_count": 26,
     "metadata": {},
     "output_type": "execute_result"
    }
   ],
   "source": [
    "rf.fit(X_train,Y_train)"
   ]
  },
  {
   "cell_type": "code",
   "execution_count": 27,
   "id": "48b71eb6",
   "metadata": {
    "execution": {
     "iopub.execute_input": "2022-08-14T18:13:44.985200Z",
     "iopub.status.busy": "2022-08-14T18:13:44.984806Z",
     "iopub.status.idle": "2022-08-14T18:13:46.175805Z",
     "shell.execute_reply": "2022-08-14T18:13:46.174851Z"
    },
    "papermill": {
     "duration": 1.203992,
     "end_time": "2022-08-14T18:13:46.178339",
     "exception": false,
     "start_time": "2022-08-14T18:13:44.974347",
     "status": "completed"
    },
    "tags": []
   },
   "outputs": [
    {
     "data": {
      "text/plain": [
       "array([0, 1, 0, ..., 0, 0, 0])"
      ]
     },
     "execution_count": 27,
     "metadata": {},
     "output_type": "execute_result"
    }
   ],
   "source": [
    "predict = rf.predict(X_test)\n",
    "predict"
   ]
  },
  {
   "cell_type": "code",
   "execution_count": 28,
   "id": "934e95e5",
   "metadata": {
    "execution": {
     "iopub.execute_input": "2022-08-14T18:13:46.198636Z",
     "iopub.status.busy": "2022-08-14T18:13:46.197924Z",
     "iopub.status.idle": "2022-08-14T18:13:46.274036Z",
     "shell.execute_reply": "2022-08-14T18:13:46.272262Z"
    },
    "papermill": {
     "duration": 0.089019,
     "end_time": "2022-08-14T18:13:46.276514",
     "exception": false,
     "start_time": "2022-08-14T18:13:46.187495",
     "status": "completed"
    },
    "tags": []
   },
   "outputs": [
    {
     "name": "stdout",
     "output_type": "stream",
     "text": [
      "              precision    recall  f1-score   support\n",
      "\n",
      "           0       0.77      0.81      0.79     17505\n",
      "           1       0.80      0.76      0.78     17779\n",
      "\n",
      "    accuracy                           0.78     35284\n",
      "   macro avg       0.78      0.78      0.78     35284\n",
      "weighted avg       0.78      0.78      0.78     35284\n",
      "\n"
     ]
    }
   ],
   "source": [
    "print(classification_report(Y_test,predict))"
   ]
  },
  {
   "cell_type": "code",
   "execution_count": 29,
   "id": "c2c7eb3f",
   "metadata": {
    "execution": {
     "iopub.execute_input": "2022-08-14T18:13:46.297284Z",
     "iopub.status.busy": "2022-08-14T18:13:46.296891Z",
     "iopub.status.idle": "2022-08-14T18:13:46.312489Z",
     "shell.execute_reply": "2022-08-14T18:13:46.311238Z"
    },
    "papermill": {
     "duration": 0.029414,
     "end_time": "2022-08-14T18:13:46.315349",
     "exception": false,
     "start_time": "2022-08-14T18:13:46.285935",
     "status": "completed"
    },
    "tags": []
   },
   "outputs": [
    {
     "data": {
      "text/plain": [
       "array([[14127,  3378],\n",
       "       [ 4284, 13495]])"
      ]
     },
     "execution_count": 29,
     "metadata": {},
     "output_type": "execute_result"
    }
   ],
   "source": [
    "confusion_matrix(Y_test,predict)"
   ]
  }
 ],
 "metadata": {
  "kernelspec": {
   "display_name": "Python 3",
   "language": "python",
   "name": "python3"
  },
  "language_info": {
   "codemirror_mode": {
    "name": "ipython",
    "version": 3
   },
   "file_extension": ".py",
   "mimetype": "text/x-python",
   "name": "python",
   "nbconvert_exporter": "python",
   "pygments_lexer": "ipython3",
   "version": "3.7.12"
  },
  "papermill": {
   "default_parameters": {},
   "duration": 36.831962,
   "end_time": "2022-08-14T18:13:47.146630",
   "environment_variables": {},
   "exception": null,
   "input_path": "__notebook__.ipynb",
   "output_path": "__notebook__.ipynb",
   "parameters": {},
   "start_time": "2022-08-14T18:13:10.314668",
   "version": "2.3.4"
  }
 },
 "nbformat": 4,
 "nbformat_minor": 5
}
