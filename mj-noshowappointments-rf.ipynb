{
 "cells": [
  {
   "cell_type": "code",
   "execution_count": 1,
   "id": "6b4b7706",
   "metadata": {
    "_cell_guid": "b1076dfc-b9ad-4769-8c92-a6c4dae69d19",
    "_uuid": "8f2839f25d086af736a60e9eeb907d3b93b6e0e5",
    "execution": {
     "iopub.execute_input": "2022-08-14T16:12:14.440092Z",
     "iopub.status.busy": "2022-08-14T16:12:14.439483Z",
     "iopub.status.idle": "2022-08-14T16:12:14.464826Z",
     "shell.execute_reply": "2022-08-14T16:12:14.463587Z"
    },
    "papermill": {
     "duration": 0.037703,
     "end_time": "2022-08-14T16:12:14.467724",
     "exception": false,
     "start_time": "2022-08-14T16:12:14.430021",
     "status": "completed"
    },
    "tags": []
   },
   "outputs": [
    {
     "name": "stdout",
     "output_type": "stream",
     "text": [
      "/kaggle/input/noshowappointments/KaggleV2-May-2016.csv\n"
     ]
    }
   ],
   "source": [
    "# This Python 3 environment comes with many helpful analytics libraries installed\n",
    "# It is defined by the kaggle/python Docker image: https://github.com/kaggle/docker-python\n",
    "# For example, here's several helpful packages to load\n",
    "\n",
    "import numpy as np # linear algebra\n",
    "import pandas as pd # data processing, CSV file I/O (e.g. pd.read_csv)\n",
    "\n",
    "# Input data files are available in the read-only \"../input/\" directory\n",
    "# For example, running this (by clicking run or pressing Shift+Enter) will list all files under the input directory\n",
    "\n",
    "import os\n",
    "for dirname, _, filenames in os.walk('/kaggle/input'):\n",
    "    for filename in filenames:\n",
    "        print(os.path.join(dirname, filename))\n",
    "\n",
    "# You can write up to 20GB to the current directory (/kaggle/working/) that gets preserved as output when you create a version using \"Save & Run All\" \n",
    "# You can also write temporary files to /kaggle/temp/, but they won't be saved outside of the current session"
   ]
  },
  {
   "cell_type": "code",
   "execution_count": 2,
   "id": "23e0d6fd",
   "metadata": {
    "execution": {
     "iopub.execute_input": "2022-08-14T16:12:14.482602Z",
     "iopub.status.busy": "2022-08-14T16:12:14.481472Z",
     "iopub.status.idle": "2022-08-14T16:12:16.960724Z",
     "shell.execute_reply": "2022-08-14T16:12:16.959349Z"
    },
    "papermill": {
     "duration": 2.489584,
     "end_time": "2022-08-14T16:12:16.963773",
     "exception": false,
     "start_time": "2022-08-14T16:12:14.474189",
     "status": "completed"
    },
    "tags": []
   },
   "outputs": [],
   "source": [
    "from matplotlib import pyplot as plt\n",
    "# from sklearn.preprocessing import SimpleImputer\n",
    "from sklearn.preprocessing import LabelEncoder\n",
    "from sklearn.model_selection import train_test_split\n",
    "from imblearn.over_sampling import RandomOverSampler,SMOTE, ADASYN\n",
    "from sklearn.tree import DecisionTreeClassifier\n",
    "from sklearn.linear_model import LogisticRegression\n",
    "from sklearn.metrics import roc_curve\n",
    "from sklearn.ensemble import RandomForestClassifier\n",
    "from sklearn.feature_selection import SelectFromModel\n",
    "from sklearn.metrics import classification_report,accuracy_score,confusion_matrix,auc,roc_auc_score,precision_score,recall_score\n",
    "from sklearn.cluster import KMeans\n",
    "from sklearn.neighbors import KNeighborsClassifier\n",
    "from sklearn import metrics\n",
    "from sklearn.metrics import precision_recall_fscore_support\n",
    "import seaborn as sns\n",
    "import statsmodels.api as sm\n",
    "%matplotlib inline\n",
    "from sklearn.model_selection import train_test_split\n",
    "from sklearn.linear_model import LinearRegression\n",
    "from sklearn.feature_selection import RFE\n",
    "from sklearn.linear_model import RidgeCV, LassoCV, Ridge, Lasso"
   ]
  },
  {
   "cell_type": "code",
   "execution_count": 3,
   "id": "4670870c",
   "metadata": {
    "execution": {
     "iopub.execute_input": "2022-08-14T16:12:16.978724Z",
     "iopub.status.busy": "2022-08-14T16:12:16.977619Z",
     "iopub.status.idle": "2022-08-14T16:12:17.367909Z",
     "shell.execute_reply": "2022-08-14T16:12:17.366625Z"
    },
    "papermill": {
     "duration": 0.400837,
     "end_time": "2022-08-14T16:12:17.370882",
     "exception": false,
     "start_time": "2022-08-14T16:12:16.970045",
     "status": "completed"
    },
    "tags": []
   },
   "outputs": [],
   "source": [
    "dataset = pd.read_csv('../input/noshowappointments/KaggleV2-May-2016.csv')"
   ]
  },
  {
   "cell_type": "code",
   "execution_count": 4,
   "id": "4e9b2cfc",
   "metadata": {
    "execution": {
     "iopub.execute_input": "2022-08-14T16:12:17.385776Z",
     "iopub.status.busy": "2022-08-14T16:12:17.384672Z",
     "iopub.status.idle": "2022-08-14T16:12:17.412544Z",
     "shell.execute_reply": "2022-08-14T16:12:17.411042Z"
    },
    "papermill": {
     "duration": 0.038236,
     "end_time": "2022-08-14T16:12:17.415422",
     "exception": false,
     "start_time": "2022-08-14T16:12:17.377186",
     "status": "completed"
    },
    "tags": []
   },
   "outputs": [
    {
     "data": {
      "text/html": [
       "<div>\n",
       "<style scoped>\n",
       "    .dataframe tbody tr th:only-of-type {\n",
       "        vertical-align: middle;\n",
       "    }\n",
       "\n",
       "    .dataframe tbody tr th {\n",
       "        vertical-align: top;\n",
       "    }\n",
       "\n",
       "    .dataframe thead th {\n",
       "        text-align: right;\n",
       "    }\n",
       "</style>\n",
       "<table border=\"1\" class=\"dataframe\">\n",
       "  <thead>\n",
       "    <tr style=\"text-align: right;\">\n",
       "      <th></th>\n",
       "      <th>PatientId</th>\n",
       "      <th>AppointmentID</th>\n",
       "      <th>Gender</th>\n",
       "      <th>ScheduledDay</th>\n",
       "      <th>AppointmentDay</th>\n",
       "      <th>Age</th>\n",
       "      <th>Neighbourhood</th>\n",
       "      <th>Scholarship</th>\n",
       "      <th>Hipertension</th>\n",
       "      <th>Diabetes</th>\n",
       "      <th>Alcoholism</th>\n",
       "      <th>Handcap</th>\n",
       "      <th>SMS_received</th>\n",
       "      <th>No-show</th>\n",
       "    </tr>\n",
       "  </thead>\n",
       "  <tbody>\n",
       "    <tr>\n",
       "      <th>0</th>\n",
       "      <td>2.987250e+13</td>\n",
       "      <td>5642903</td>\n",
       "      <td>F</td>\n",
       "      <td>2016-04-29T18:38:08Z</td>\n",
       "      <td>2016-04-29T00:00:00Z</td>\n",
       "      <td>62</td>\n",
       "      <td>JARDIM DA PENHA</td>\n",
       "      <td>0</td>\n",
       "      <td>1</td>\n",
       "      <td>0</td>\n",
       "      <td>0</td>\n",
       "      <td>0</td>\n",
       "      <td>0</td>\n",
       "      <td>No</td>\n",
       "    </tr>\n",
       "    <tr>\n",
       "      <th>1</th>\n",
       "      <td>5.589978e+14</td>\n",
       "      <td>5642503</td>\n",
       "      <td>M</td>\n",
       "      <td>2016-04-29T16:08:27Z</td>\n",
       "      <td>2016-04-29T00:00:00Z</td>\n",
       "      <td>56</td>\n",
       "      <td>JARDIM DA PENHA</td>\n",
       "      <td>0</td>\n",
       "      <td>0</td>\n",
       "      <td>0</td>\n",
       "      <td>0</td>\n",
       "      <td>0</td>\n",
       "      <td>0</td>\n",
       "      <td>No</td>\n",
       "    </tr>\n",
       "    <tr>\n",
       "      <th>2</th>\n",
       "      <td>4.262962e+12</td>\n",
       "      <td>5642549</td>\n",
       "      <td>F</td>\n",
       "      <td>2016-04-29T16:19:04Z</td>\n",
       "      <td>2016-04-29T00:00:00Z</td>\n",
       "      <td>62</td>\n",
       "      <td>MATA DA PRAIA</td>\n",
       "      <td>0</td>\n",
       "      <td>0</td>\n",
       "      <td>0</td>\n",
       "      <td>0</td>\n",
       "      <td>0</td>\n",
       "      <td>0</td>\n",
       "      <td>No</td>\n",
       "    </tr>\n",
       "    <tr>\n",
       "      <th>3</th>\n",
       "      <td>8.679512e+11</td>\n",
       "      <td>5642828</td>\n",
       "      <td>F</td>\n",
       "      <td>2016-04-29T17:29:31Z</td>\n",
       "      <td>2016-04-29T00:00:00Z</td>\n",
       "      <td>8</td>\n",
       "      <td>PONTAL DE CAMBURI</td>\n",
       "      <td>0</td>\n",
       "      <td>0</td>\n",
       "      <td>0</td>\n",
       "      <td>0</td>\n",
       "      <td>0</td>\n",
       "      <td>0</td>\n",
       "      <td>No</td>\n",
       "    </tr>\n",
       "    <tr>\n",
       "      <th>4</th>\n",
       "      <td>8.841186e+12</td>\n",
       "      <td>5642494</td>\n",
       "      <td>F</td>\n",
       "      <td>2016-04-29T16:07:23Z</td>\n",
       "      <td>2016-04-29T00:00:00Z</td>\n",
       "      <td>56</td>\n",
       "      <td>JARDIM DA PENHA</td>\n",
       "      <td>0</td>\n",
       "      <td>1</td>\n",
       "      <td>1</td>\n",
       "      <td>0</td>\n",
       "      <td>0</td>\n",
       "      <td>0</td>\n",
       "      <td>No</td>\n",
       "    </tr>\n",
       "  </tbody>\n",
       "</table>\n",
       "</div>"
      ],
      "text/plain": [
       "      PatientId  AppointmentID Gender          ScheduledDay  \\\n",
       "0  2.987250e+13        5642903      F  2016-04-29T18:38:08Z   \n",
       "1  5.589978e+14        5642503      M  2016-04-29T16:08:27Z   \n",
       "2  4.262962e+12        5642549      F  2016-04-29T16:19:04Z   \n",
       "3  8.679512e+11        5642828      F  2016-04-29T17:29:31Z   \n",
       "4  8.841186e+12        5642494      F  2016-04-29T16:07:23Z   \n",
       "\n",
       "         AppointmentDay  Age      Neighbourhood  Scholarship  Hipertension  \\\n",
       "0  2016-04-29T00:00:00Z   62    JARDIM DA PENHA            0             1   \n",
       "1  2016-04-29T00:00:00Z   56    JARDIM DA PENHA            0             0   \n",
       "2  2016-04-29T00:00:00Z   62      MATA DA PRAIA            0             0   \n",
       "3  2016-04-29T00:00:00Z    8  PONTAL DE CAMBURI            0             0   \n",
       "4  2016-04-29T00:00:00Z   56    JARDIM DA PENHA            0             1   \n",
       "\n",
       "   Diabetes  Alcoholism  Handcap  SMS_received No-show  \n",
       "0         0           0        0             0      No  \n",
       "1         0           0        0             0      No  \n",
       "2         0           0        0             0      No  \n",
       "3         0           0        0             0      No  \n",
       "4         1           0        0             0      No  "
      ]
     },
     "execution_count": 4,
     "metadata": {},
     "output_type": "execute_result"
    }
   ],
   "source": [
    "dataset.head()"
   ]
  },
  {
   "cell_type": "code",
   "execution_count": 5,
   "id": "17ab942e",
   "metadata": {
    "execution": {
     "iopub.execute_input": "2022-08-14T16:12:17.431077Z",
     "iopub.status.busy": "2022-08-14T16:12:17.430664Z",
     "iopub.status.idle": "2022-08-14T16:12:17.483320Z",
     "shell.execute_reply": "2022-08-14T16:12:17.481100Z"
    },
    "papermill": {
     "duration": 0.063229,
     "end_time": "2022-08-14T16:12:17.485948",
     "exception": false,
     "start_time": "2022-08-14T16:12:17.422719",
     "status": "completed"
    },
    "tags": []
   },
   "outputs": [
    {
     "name": "stdout",
     "output_type": "stream",
     "text": [
      "<class 'pandas.core.frame.DataFrame'>\n",
      "RangeIndex: 110527 entries, 0 to 110526\n",
      "Data columns (total 14 columns):\n",
      " #   Column          Non-Null Count   Dtype  \n",
      "---  ------          --------------   -----  \n",
      " 0   PatientId       110527 non-null  float64\n",
      " 1   AppointmentID   110527 non-null  int64  \n",
      " 2   Gender          110527 non-null  object \n",
      " 3   ScheduledDay    110527 non-null  object \n",
      " 4   AppointmentDay  110527 non-null  object \n",
      " 5   Age             110527 non-null  int64  \n",
      " 6   Neighbourhood   110527 non-null  object \n",
      " 7   Scholarship     110527 non-null  int64  \n",
      " 8   Hipertension    110527 non-null  int64  \n",
      " 9   Diabetes        110527 non-null  int64  \n",
      " 10  Alcoholism      110527 non-null  int64  \n",
      " 11  Handcap         110527 non-null  int64  \n",
      " 12  SMS_received    110527 non-null  int64  \n",
      " 13  No-show         110527 non-null  object \n",
      "dtypes: float64(1), int64(8), object(5)\n",
      "memory usage: 11.8+ MB\n"
     ]
    }
   ],
   "source": [
    "dataset.info()"
   ]
  },
  {
   "cell_type": "code",
   "execution_count": 6,
   "id": "44d85f40",
   "metadata": {
    "execution": {
     "iopub.execute_input": "2022-08-14T16:12:17.501148Z",
     "iopub.status.busy": "2022-08-14T16:12:17.500082Z",
     "iopub.status.idle": "2022-08-14T16:12:17.571425Z",
     "shell.execute_reply": "2022-08-14T16:12:17.570164Z"
    },
    "papermill": {
     "duration": 0.0816,
     "end_time": "2022-08-14T16:12:17.574042",
     "exception": false,
     "start_time": "2022-08-14T16:12:17.492442",
     "status": "completed"
    },
    "tags": []
   },
   "outputs": [
    {
     "data": {
      "text/html": [
       "<div>\n",
       "<style scoped>\n",
       "    .dataframe tbody tr th:only-of-type {\n",
       "        vertical-align: middle;\n",
       "    }\n",
       "\n",
       "    .dataframe tbody tr th {\n",
       "        vertical-align: top;\n",
       "    }\n",
       "\n",
       "    .dataframe thead th {\n",
       "        text-align: right;\n",
       "    }\n",
       "</style>\n",
       "<table border=\"1\" class=\"dataframe\">\n",
       "  <thead>\n",
       "    <tr style=\"text-align: right;\">\n",
       "      <th></th>\n",
       "      <th>PatientId</th>\n",
       "      <th>AppointmentID</th>\n",
       "      <th>Age</th>\n",
       "      <th>Scholarship</th>\n",
       "      <th>Hipertension</th>\n",
       "      <th>Diabetes</th>\n",
       "      <th>Alcoholism</th>\n",
       "      <th>Handcap</th>\n",
       "      <th>SMS_received</th>\n",
       "    </tr>\n",
       "  </thead>\n",
       "  <tbody>\n",
       "    <tr>\n",
       "      <th>count</th>\n",
       "      <td>1.105270e+05</td>\n",
       "      <td>1.105270e+05</td>\n",
       "      <td>110527.000000</td>\n",
       "      <td>110527.000000</td>\n",
       "      <td>110527.000000</td>\n",
       "      <td>110527.000000</td>\n",
       "      <td>110527.000000</td>\n",
       "      <td>110527.000000</td>\n",
       "      <td>110527.000000</td>\n",
       "    </tr>\n",
       "    <tr>\n",
       "      <th>mean</th>\n",
       "      <td>1.474963e+14</td>\n",
       "      <td>5.675305e+06</td>\n",
       "      <td>37.088874</td>\n",
       "      <td>0.098266</td>\n",
       "      <td>0.197246</td>\n",
       "      <td>0.071865</td>\n",
       "      <td>0.030400</td>\n",
       "      <td>0.022248</td>\n",
       "      <td>0.321026</td>\n",
       "    </tr>\n",
       "    <tr>\n",
       "      <th>std</th>\n",
       "      <td>2.560949e+14</td>\n",
       "      <td>7.129575e+04</td>\n",
       "      <td>23.110205</td>\n",
       "      <td>0.297675</td>\n",
       "      <td>0.397921</td>\n",
       "      <td>0.258265</td>\n",
       "      <td>0.171686</td>\n",
       "      <td>0.161543</td>\n",
       "      <td>0.466873</td>\n",
       "    </tr>\n",
       "    <tr>\n",
       "      <th>min</th>\n",
       "      <td>3.921784e+04</td>\n",
       "      <td>5.030230e+06</td>\n",
       "      <td>-1.000000</td>\n",
       "      <td>0.000000</td>\n",
       "      <td>0.000000</td>\n",
       "      <td>0.000000</td>\n",
       "      <td>0.000000</td>\n",
       "      <td>0.000000</td>\n",
       "      <td>0.000000</td>\n",
       "    </tr>\n",
       "    <tr>\n",
       "      <th>25%</th>\n",
       "      <td>4.172614e+12</td>\n",
       "      <td>5.640286e+06</td>\n",
       "      <td>18.000000</td>\n",
       "      <td>0.000000</td>\n",
       "      <td>0.000000</td>\n",
       "      <td>0.000000</td>\n",
       "      <td>0.000000</td>\n",
       "      <td>0.000000</td>\n",
       "      <td>0.000000</td>\n",
       "    </tr>\n",
       "    <tr>\n",
       "      <th>50%</th>\n",
       "      <td>3.173184e+13</td>\n",
       "      <td>5.680573e+06</td>\n",
       "      <td>37.000000</td>\n",
       "      <td>0.000000</td>\n",
       "      <td>0.000000</td>\n",
       "      <td>0.000000</td>\n",
       "      <td>0.000000</td>\n",
       "      <td>0.000000</td>\n",
       "      <td>0.000000</td>\n",
       "    </tr>\n",
       "    <tr>\n",
       "      <th>75%</th>\n",
       "      <td>9.439172e+13</td>\n",
       "      <td>5.725524e+06</td>\n",
       "      <td>55.000000</td>\n",
       "      <td>0.000000</td>\n",
       "      <td>0.000000</td>\n",
       "      <td>0.000000</td>\n",
       "      <td>0.000000</td>\n",
       "      <td>0.000000</td>\n",
       "      <td>1.000000</td>\n",
       "    </tr>\n",
       "    <tr>\n",
       "      <th>max</th>\n",
       "      <td>9.999816e+14</td>\n",
       "      <td>5.790484e+06</td>\n",
       "      <td>115.000000</td>\n",
       "      <td>1.000000</td>\n",
       "      <td>1.000000</td>\n",
       "      <td>1.000000</td>\n",
       "      <td>1.000000</td>\n",
       "      <td>4.000000</td>\n",
       "      <td>1.000000</td>\n",
       "    </tr>\n",
       "  </tbody>\n",
       "</table>\n",
       "</div>"
      ],
      "text/plain": [
       "          PatientId  AppointmentID            Age    Scholarship  \\\n",
       "count  1.105270e+05   1.105270e+05  110527.000000  110527.000000   \n",
       "mean   1.474963e+14   5.675305e+06      37.088874       0.098266   \n",
       "std    2.560949e+14   7.129575e+04      23.110205       0.297675   \n",
       "min    3.921784e+04   5.030230e+06      -1.000000       0.000000   \n",
       "25%    4.172614e+12   5.640286e+06      18.000000       0.000000   \n",
       "50%    3.173184e+13   5.680573e+06      37.000000       0.000000   \n",
       "75%    9.439172e+13   5.725524e+06      55.000000       0.000000   \n",
       "max    9.999816e+14   5.790484e+06     115.000000       1.000000   \n",
       "\n",
       "        Hipertension       Diabetes     Alcoholism        Handcap  \\\n",
       "count  110527.000000  110527.000000  110527.000000  110527.000000   \n",
       "mean        0.197246       0.071865       0.030400       0.022248   \n",
       "std         0.397921       0.258265       0.171686       0.161543   \n",
       "min         0.000000       0.000000       0.000000       0.000000   \n",
       "25%         0.000000       0.000000       0.000000       0.000000   \n",
       "50%         0.000000       0.000000       0.000000       0.000000   \n",
       "75%         0.000000       0.000000       0.000000       0.000000   \n",
       "max         1.000000       1.000000       1.000000       4.000000   \n",
       "\n",
       "        SMS_received  \n",
       "count  110527.000000  \n",
       "mean        0.321026  \n",
       "std         0.466873  \n",
       "min         0.000000  \n",
       "25%         0.000000  \n",
       "50%         0.000000  \n",
       "75%         1.000000  \n",
       "max         1.000000  "
      ]
     },
     "execution_count": 6,
     "metadata": {},
     "output_type": "execute_result"
    }
   ],
   "source": [
    "dataset.describe()"
   ]
  },
  {
   "cell_type": "code",
   "execution_count": 7,
   "id": "5a3daa7a",
   "metadata": {
    "execution": {
     "iopub.execute_input": "2022-08-14T16:12:17.590291Z",
     "iopub.status.busy": "2022-08-14T16:12:17.589816Z",
     "iopub.status.idle": "2022-08-14T16:12:17.604436Z",
     "shell.execute_reply": "2022-08-14T16:12:17.603489Z"
    },
    "papermill": {
     "duration": 0.02526,
     "end_time": "2022-08-14T16:12:17.606688",
     "exception": false,
     "start_time": "2022-08-14T16:12:17.581428",
     "status": "completed"
    },
    "tags": []
   },
   "outputs": [
    {
     "data": {
      "text/plain": [
       "No     88208\n",
       "Yes    22319\n",
       "Name: No-show, dtype: int64"
      ]
     },
     "execution_count": 7,
     "metadata": {},
     "output_type": "execute_result"
    }
   ],
   "source": [
    "dataset['No-show'].value_counts()"
   ]
  },
  {
   "cell_type": "code",
   "execution_count": 8,
   "id": "badb5b56",
   "metadata": {
    "execution": {
     "iopub.execute_input": "2022-08-14T16:12:17.622739Z",
     "iopub.status.busy": "2022-08-14T16:12:17.622058Z",
     "iopub.status.idle": "2022-08-14T16:12:17.657289Z",
     "shell.execute_reply": "2022-08-14T16:12:17.655887Z"
    },
    "papermill": {
     "duration": 0.046302,
     "end_time": "2022-08-14T16:12:17.660038",
     "exception": false,
     "start_time": "2022-08-14T16:12:17.613736",
     "status": "completed"
    },
    "tags": []
   },
   "outputs": [
    {
     "data": {
      "text/plain": [
       "False"
      ]
     },
     "execution_count": 8,
     "metadata": {},
     "output_type": "execute_result"
    }
   ],
   "source": [
    "dataset.isnull().sum().any()"
   ]
  },
  {
   "cell_type": "code",
   "execution_count": 9,
   "id": "d7749c90",
   "metadata": {
    "execution": {
     "iopub.execute_input": "2022-08-14T16:12:17.676076Z",
     "iopub.status.busy": "2022-08-14T16:12:17.675683Z",
     "iopub.status.idle": "2022-08-14T16:12:17.687793Z",
     "shell.execute_reply": "2022-08-14T16:12:17.686545Z"
    },
    "papermill": {
     "duration": 0.023353,
     "end_time": "2022-08-14T16:12:17.690446",
     "exception": false,
     "start_time": "2022-08-14T16:12:17.667093",
     "status": "completed"
    },
    "tags": []
   },
   "outputs": [],
   "source": [
    "dataset.drop(['PatientId','AppointmentID','ScheduledDay', 'AppointmentDay'], axis=1, inplace=True)"
   ]
  },
  {
   "cell_type": "code",
   "execution_count": 10,
   "id": "32da6c2c",
   "metadata": {
    "execution": {
     "iopub.execute_input": "2022-08-14T16:12:17.706704Z",
     "iopub.status.busy": "2022-08-14T16:12:17.705943Z",
     "iopub.status.idle": "2022-08-14T16:12:17.749623Z",
     "shell.execute_reply": "2022-08-14T16:12:17.748286Z"
    },
    "papermill": {
     "duration": 0.054955,
     "end_time": "2022-08-14T16:12:17.752474",
     "exception": false,
     "start_time": "2022-08-14T16:12:17.697519",
     "status": "completed"
    },
    "tags": []
   },
   "outputs": [],
   "source": [
    "X = dataset.iloc[:, 0:9].values\n",
    "Y = dataset.iloc[:, 9].values"
   ]
  },
  {
   "cell_type": "code",
   "execution_count": 11,
   "id": "8168da27",
   "metadata": {
    "execution": {
     "iopub.execute_input": "2022-08-14T16:12:17.768101Z",
     "iopub.status.busy": "2022-08-14T16:12:17.767716Z",
     "iopub.status.idle": "2022-08-14T16:12:17.774775Z",
     "shell.execute_reply": "2022-08-14T16:12:17.773664Z"
    },
    "papermill": {
     "duration": 0.017676,
     "end_time": "2022-08-14T16:12:17.777060",
     "exception": false,
     "start_time": "2022-08-14T16:12:17.759384",
     "status": "completed"
    },
    "tags": []
   },
   "outputs": [
    {
     "data": {
      "text/plain": [
       "array([['F', 62, 'JARDIM DA PENHA', ..., 0, 0, 0],\n",
       "       ['M', 56, 'JARDIM DA PENHA', ..., 0, 0, 0],\n",
       "       ['F', 62, 'MATA DA PRAIA', ..., 0, 0, 0],\n",
       "       ...,\n",
       "       ['F', 21, 'MARIA ORTIZ', ..., 0, 0, 1],\n",
       "       ['F', 38, 'MARIA ORTIZ', ..., 0, 0, 1],\n",
       "       ['F', 54, 'MARIA ORTIZ', ..., 0, 0, 1]], dtype=object)"
      ]
     },
     "execution_count": 11,
     "metadata": {},
     "output_type": "execute_result"
    }
   ],
   "source": [
    "X"
   ]
  },
  {
   "cell_type": "code",
   "execution_count": 12,
   "id": "6ed42e98",
   "metadata": {
    "execution": {
     "iopub.execute_input": "2022-08-14T16:12:17.792864Z",
     "iopub.status.busy": "2022-08-14T16:12:17.792475Z",
     "iopub.status.idle": "2022-08-14T16:12:17.799338Z",
     "shell.execute_reply": "2022-08-14T16:12:17.798281Z"
    },
    "papermill": {
     "duration": 0.017394,
     "end_time": "2022-08-14T16:12:17.801494",
     "exception": false,
     "start_time": "2022-08-14T16:12:17.784100",
     "status": "completed"
    },
    "tags": []
   },
   "outputs": [
    {
     "data": {
      "text/plain": [
       "array(['No', 'No', 'No', ..., 'No', 'No', 'No'], dtype=object)"
      ]
     },
     "execution_count": 12,
     "metadata": {},
     "output_type": "execute_result"
    }
   ],
   "source": [
    "Y"
   ]
  },
  {
   "cell_type": "code",
   "execution_count": 13,
   "id": "d5813f0d",
   "metadata": {
    "execution": {
     "iopub.execute_input": "2022-08-14T16:12:17.817787Z",
     "iopub.status.busy": "2022-08-14T16:12:17.817403Z",
     "iopub.status.idle": "2022-08-14T16:12:17.905410Z",
     "shell.execute_reply": "2022-08-14T16:12:17.904309Z"
    },
    "papermill": {
     "duration": 0.099513,
     "end_time": "2022-08-14T16:12:17.908146",
     "exception": false,
     "start_time": "2022-08-14T16:12:17.808633",
     "status": "completed"
    },
    "tags": []
   },
   "outputs": [],
   "source": [
    "from sklearn.preprocessing import OneHotEncoder\n",
    "from sklearn.compose import ColumnTransformer\n",
    "\n",
    "le = LabelEncoder()\n",
    "X[:, 0] = le.fit_transform(X[:, 0])\n",
    "X[:, 2] = le.fit_transform(X[:, 2])\n",
    "# X[:, 9] = le.fit_transform(X[:, 9])\n",
    "# X[:, 13] = le.fit_transform(X[:, 13])\n",
    "\n",
    "Y = le.fit_transform(Y)"
   ]
  },
  {
   "cell_type": "code",
   "execution_count": 14,
   "id": "dad2a05e",
   "metadata": {
    "execution": {
     "iopub.execute_input": "2022-08-14T16:12:17.924936Z",
     "iopub.status.busy": "2022-08-14T16:12:17.924545Z",
     "iopub.status.idle": "2022-08-14T16:12:17.930746Z",
     "shell.execute_reply": "2022-08-14T16:12:17.929437Z"
    },
    "papermill": {
     "duration": 0.018406,
     "end_time": "2022-08-14T16:12:17.933731",
     "exception": false,
     "start_time": "2022-08-14T16:12:17.915325",
     "status": "completed"
    },
    "tags": []
   },
   "outputs": [
    {
     "name": "stdout",
     "output_type": "stream",
     "text": [
      "[[0 62 39 ... 0 0 0]\n",
      " [1 56 39 ... 0 0 0]\n",
      " [0 62 45 ... 0 0 0]\n",
      " ...\n",
      " [0 21 43 ... 0 0 1]\n",
      " [0 38 43 ... 0 0 1]\n",
      " [0 54 43 ... 0 0 1]]\n",
      "[0 0 0 ... 0 0 0]\n"
     ]
    }
   ],
   "source": [
    "print(X)\n",
    "print(Y)"
   ]
  },
  {
   "cell_type": "code",
   "execution_count": 15,
   "id": "019a9b94",
   "metadata": {
    "execution": {
     "iopub.execute_input": "2022-08-14T16:12:17.950755Z",
     "iopub.status.busy": "2022-08-14T16:12:17.950017Z",
     "iopub.status.idle": "2022-08-14T16:12:18.038338Z",
     "shell.execute_reply": "2022-08-14T16:12:18.037226Z"
    },
    "papermill": {
     "duration": 0.100128,
     "end_time": "2022-08-14T16:12:18.041022",
     "exception": false,
     "start_time": "2022-08-14T16:12:17.940894",
     "status": "completed"
    },
    "tags": []
   },
   "outputs": [],
   "source": [
    "from sklearn.preprocessing import MinMaxScaler\n",
    "sc = MinMaxScaler()\n",
    "X = sc.fit_transform(X)"
   ]
  },
  {
   "cell_type": "code",
   "execution_count": 16,
   "id": "dc41fd5c",
   "metadata": {
    "execution": {
     "iopub.execute_input": "2022-08-14T16:12:18.057482Z",
     "iopub.status.busy": "2022-08-14T16:12:18.056478Z",
     "iopub.status.idle": "2022-08-14T16:12:18.065449Z",
     "shell.execute_reply": "2022-08-14T16:12:18.064324Z"
    },
    "papermill": {
     "duration": 0.019495,
     "end_time": "2022-08-14T16:12:18.067615",
     "exception": false,
     "start_time": "2022-08-14T16:12:18.048120",
     "status": "completed"
    },
    "tags": []
   },
   "outputs": [
    {
     "data": {
      "text/plain": [
       "array([[0.        , 0.54310345, 0.4875    , ..., 0.        , 0.        ,\n",
       "        0.        ],\n",
       "       [1.        , 0.49137931, 0.4875    , ..., 0.        , 0.        ,\n",
       "        0.        ],\n",
       "       [0.        , 0.54310345, 0.5625    , ..., 0.        , 0.        ,\n",
       "        0.        ],\n",
       "       ...,\n",
       "       [0.        , 0.18965517, 0.5375    , ..., 0.        , 0.        ,\n",
       "        1.        ],\n",
       "       [0.        , 0.3362069 , 0.5375    , ..., 0.        , 0.        ,\n",
       "        1.        ],\n",
       "       [0.        , 0.47413793, 0.5375    , ..., 0.        , 0.        ,\n",
       "        1.        ]])"
      ]
     },
     "execution_count": 16,
     "metadata": {},
     "output_type": "execute_result"
    }
   ],
   "source": [
    "X"
   ]
  },
  {
   "cell_type": "code",
   "execution_count": 17,
   "id": "acce8442",
   "metadata": {
    "execution": {
     "iopub.execute_input": "2022-08-14T16:12:18.084191Z",
     "iopub.status.busy": "2022-08-14T16:12:18.083776Z",
     "iopub.status.idle": "2022-08-14T16:12:18.104650Z",
     "shell.execute_reply": "2022-08-14T16:12:18.103476Z"
    },
    "papermill": {
     "duration": 0.032289,
     "end_time": "2022-08-14T16:12:18.107357",
     "exception": false,
     "start_time": "2022-08-14T16:12:18.075068",
     "status": "completed"
    },
    "tags": []
   },
   "outputs": [],
   "source": [
    "from sklearn.model_selection import train_test_split\n",
    "X_train, X_test, Y_train, Y_test = train_test_split(X, Y, test_size=0.20, random_state=0)"
   ]
  },
  {
   "cell_type": "code",
   "execution_count": 18,
   "id": "777b309d",
   "metadata": {
    "execution": {
     "iopub.execute_input": "2022-08-14T16:12:18.123888Z",
     "iopub.status.busy": "2022-08-14T16:12:18.123462Z",
     "iopub.status.idle": "2022-08-14T16:12:18.130732Z",
     "shell.execute_reply": "2022-08-14T16:12:18.129461Z"
    },
    "papermill": {
     "duration": 0.018205,
     "end_time": "2022-08-14T16:12:18.132909",
     "exception": false,
     "start_time": "2022-08-14T16:12:18.114704",
     "status": "completed"
    },
    "tags": []
   },
   "outputs": [
    {
     "data": {
      "text/plain": [
       "(88421, 9)"
      ]
     },
     "execution_count": 18,
     "metadata": {},
     "output_type": "execute_result"
    }
   ],
   "source": [
    "X_train.shape"
   ]
  },
  {
   "cell_type": "code",
   "execution_count": 19,
   "id": "50b942fd",
   "metadata": {
    "execution": {
     "iopub.execute_input": "2022-08-14T16:12:18.149631Z",
     "iopub.status.busy": "2022-08-14T16:12:18.149181Z",
     "iopub.status.idle": "2022-08-14T16:12:18.155853Z",
     "shell.execute_reply": "2022-08-14T16:12:18.154753Z"
    },
    "papermill": {
     "duration": 0.017791,
     "end_time": "2022-08-14T16:12:18.158117",
     "exception": false,
     "start_time": "2022-08-14T16:12:18.140326",
     "status": "completed"
    },
    "tags": []
   },
   "outputs": [
    {
     "data": {
      "text/plain": [
       "(22106, 9)"
      ]
     },
     "execution_count": 19,
     "metadata": {},
     "output_type": "execute_result"
    }
   ],
   "source": [
    "X_test.shape"
   ]
  },
  {
   "cell_type": "code",
   "execution_count": 20,
   "id": "29078864",
   "metadata": {
    "execution": {
     "iopub.execute_input": "2022-08-14T16:12:18.174923Z",
     "iopub.status.busy": "2022-08-14T16:12:18.174518Z",
     "iopub.status.idle": "2022-08-14T16:12:18.179581Z",
     "shell.execute_reply": "2022-08-14T16:12:18.178503Z"
    },
    "papermill": {
     "duration": 0.016099,
     "end_time": "2022-08-14T16:12:18.181799",
     "exception": false,
     "start_time": "2022-08-14T16:12:18.165700",
     "status": "completed"
    },
    "tags": []
   },
   "outputs": [],
   "source": [
    "rf = RandomForestClassifier(n_estimators=100)"
   ]
  },
  {
   "cell_type": "code",
   "execution_count": 21,
   "id": "c2a4a592",
   "metadata": {
    "execution": {
     "iopub.execute_input": "2022-08-14T16:12:18.199017Z",
     "iopub.status.busy": "2022-08-14T16:12:18.198183Z",
     "iopub.status.idle": "2022-08-14T16:12:28.926447Z",
     "shell.execute_reply": "2022-08-14T16:12:28.925012Z"
    },
    "papermill": {
     "duration": 10.739725,
     "end_time": "2022-08-14T16:12:28.929134",
     "exception": false,
     "start_time": "2022-08-14T16:12:18.189409",
     "status": "completed"
    },
    "tags": []
   },
   "outputs": [
    {
     "data": {
      "text/plain": [
       "RandomForestClassifier()"
      ]
     },
     "execution_count": 21,
     "metadata": {},
     "output_type": "execute_result"
    }
   ],
   "source": [
    "rf.fit(X_train,Y_train)"
   ]
  },
  {
   "cell_type": "code",
   "execution_count": 22,
   "id": "8f6dc836",
   "metadata": {
    "execution": {
     "iopub.execute_input": "2022-08-14T16:12:28.947305Z",
     "iopub.status.busy": "2022-08-14T16:12:28.946875Z",
     "iopub.status.idle": "2022-08-14T16:12:29.685878Z",
     "shell.execute_reply": "2022-08-14T16:12:29.684494Z"
    },
    "papermill": {
     "duration": 0.751072,
     "end_time": "2022-08-14T16:12:29.688708",
     "exception": false,
     "start_time": "2022-08-14T16:12:28.937636",
     "status": "completed"
    },
    "tags": []
   },
   "outputs": [],
   "source": [
    "predict = rf.predict(X_test)"
   ]
  },
  {
   "cell_type": "code",
   "execution_count": 23,
   "id": "e2ac0b16",
   "metadata": {
    "execution": {
     "iopub.execute_input": "2022-08-14T16:12:29.706999Z",
     "iopub.status.busy": "2022-08-14T16:12:29.706076Z",
     "iopub.status.idle": "2022-08-14T16:12:29.753984Z",
     "shell.execute_reply": "2022-08-14T16:12:29.752285Z"
    },
    "papermill": {
     "duration": 0.060754,
     "end_time": "2022-08-14T16:12:29.757283",
     "exception": false,
     "start_time": "2022-08-14T16:12:29.696529",
     "status": "completed"
    },
    "tags": []
   },
   "outputs": [
    {
     "name": "stdout",
     "output_type": "stream",
     "text": [
      "              precision    recall  f1-score   support\n",
      "\n",
      "           0       0.81      0.92      0.86     17725\n",
      "           1       0.31      0.15      0.20      4381\n",
      "\n",
      "    accuracy                           0.76     22106\n",
      "   macro avg       0.56      0.53      0.53     22106\n",
      "weighted avg       0.71      0.76      0.73     22106\n",
      "\n"
     ]
    }
   ],
   "source": [
    "print(classification_report(Y_test,predict))"
   ]
  }
 ],
 "metadata": {
  "kernelspec": {
   "display_name": "Python 3",
   "language": "python",
   "name": "python3"
  },
  "language_info": {
   "codemirror_mode": {
    "name": "ipython",
    "version": 3
   },
   "file_extension": ".py",
   "mimetype": "text/x-python",
   "name": "python",
   "nbconvert_exporter": "python",
   "pygments_lexer": "ipython3",
   "version": "3.7.12"
  },
  "papermill": {
   "default_parameters": {},
   "duration": 25.32292,
   "end_time": "2022-08-14T16:12:30.587838",
   "environment_variables": {},
   "exception": null,
   "input_path": "__notebook__.ipynb",
   "output_path": "__notebook__.ipynb",
   "parameters": {},
   "start_time": "2022-08-14T16:12:05.264918",
   "version": "2.3.4"
  }
 },
 "nbformat": 4,
 "nbformat_minor": 5
}
